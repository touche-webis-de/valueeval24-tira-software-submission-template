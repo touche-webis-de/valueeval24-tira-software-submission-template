{
 "cells": [
  {
   "cell_type": "markdown",
   "metadata": {
    "pycharm": {
     "name": "#%% md\n"
    }
   },
   "source": [
    "# Random Baseline for ValueEval'24"
   ]
  },
  {
   "cell_type": "code",
   "execution_count": null,
   "metadata": {
    "pycharm": {
     "name": "#%%\n"
    }
   },
   "outputs": [],
   "source": [
    "import os\n",
    "import pandas\n",
    "import random\n",
    "import sys\n",
    "\n",
    "dataset_dir = \"./../../toy-dataset\"\n",
    "output_dir = \"./output\""
   ]
  },
  {
   "cell_type": "markdown",
   "metadata": {
    "pycharm": {
     "name": "#%% md\n"
    }
   },
   "source": [
    "## Setup"
   ]
  },
  {
   "cell_type": "code",
   "execution_count": null,
   "metadata": {},
   "outputs": [],
   "source": [
    "values = [ \"Self-direction: thought\", \"Self-direction: action\", \"Stimulation\", \"Hedonism\", \"Achievement\", \"Power: dominance\", \"Power: resources\", \"Face\", \"Security: personal\", \"Security: societal\", \"Tradition\", \"Conformity: rules\", \"Conformity: interpersonal\", \"Humility\", \"Benevolence: caring\", \"Benevolence: dependability\", \"Universalism: concern\", \"Universalism: nature\", \"Universalism: tolerance\" ]"
   ]
  },
  {
   "cell_type": "markdown",
   "metadata": {
    "pycharm": {
     "name": "#%% md\n"
    }
   },
   "source": [
    "## Prediction"
   ]
  },
  {
   "cell_type": "code",
   "execution_count": null,
   "metadata": {},
   "outputs": [],
   "source": [
    "def predict(text):\n",
    "    \"\"\" Predicts the value probabilities (attained and constrained) for each sentence \"\"\"\n",
    "    # \"text\" contains all sentences (plain strings) of a single text in order (same Text-ID in the input file)\n",
    "    labels = []\n",
    "    for sentence in text:\n",
    "        sentence_labels = {}\n",
    "        for value in values:\n",
    "            # probability for subtask 1\n",
    "            probability_resorted = random.random() \n",
    "\n",
    "            # randomly distribute probability between attained and constrained for subtask 2\n",
    "            probability_attained = random.random() * probability_resorted\n",
    "            probability_constrained = probability_resorted - probability_attained\n",
    "\n",
    "            sentence_labels[value + \" attained\"] = probability_attained\n",
    "            sentence_labels[value + \" constrained\"] = probability_constrained\n",
    "        labels.append(sentence_labels)\n",
    "    return labels"
   ]
  },
  {
   "cell_type": "markdown",
   "metadata": {
    "pycharm": {
     "name": "#%% md\n"
    }
   },
   "source": [
    "## Execution"
   ]
  },
  {
   "cell_type": "code",
   "execution_count": null,
   "metadata": {},
   "outputs": [],
   "source": [
    "def label(instances):\n",
    "    \"\"\" Predicts the label probabilities for each instance and adds them to it \"\"\"\n",
    "    text = [instance[\"Text\"] for instance in instances]\n",
    "    return [{\n",
    "            \"Text-ID\": instance[\"Text-ID\"],\n",
    "            \"Sentence-ID\": instance[\"Sentence-ID\"],\n",
    "            **labels\n",
    "        } for instance, labels in zip(instances, predict(text))]\n",
    "\n",
    "def writeRun(labeled_instances, output_dir):\n",
    "    \"\"\" Writes all (labeled) instances to the predictions.tsv in the output directory \"\"\"\n",
    "    if not os.path.exists(output_dir):\n",
    "        os.makedirs(output_dir)\n",
    "    output_file = os.path.join(output_dir, \"predictions.tsv\")\n",
    "    pandas.DataFrame.from_dict(labeled_instances).to_csv(output_file, header=True, index=False, sep='\\t')"
   ]
  },
  {
   "cell_type": "code",
   "execution_count": null,
   "metadata": {
    "pycharm": {
     "name": "#%%\n"
    }
   },
   "outputs": [],
   "source": [
    "# code not executed by tira-run-inference-server (which directly calls 'predict(text)')\n",
    "if \"TIRA_INFERENCE_SERVER\" not in os.environ:\n",
    "    # directories are overwritten through environment variables by tira-run-notebook\n",
    "    dataset_dir = os.environ.get('TIRA_INPUT_DIRECTORY', dataset_dir)\n",
    "    output_dir = os.environ.get('TIRA_OUTPUT_DIRECTORY', output_dir)\n",
    "    \n",
    "    labeled_instances = []\n",
    "    input_file = os.path.join(dataset_dir, \"sentences.tsv\")\n",
    "    pandas.read_csv(input_file, sep='\\t', header=0, index_col=None).groupby(\"Text-ID\").apply(lambda text_instances:\n",
    "        # label the instances of each text separately\n",
    "        labeled_instances.extend(label(text_instances.sort_values(\"Sentence-ID\").to_dict(\"records\")))\n",
    "    )\n",
    "    writeRun(labeled_instances, output_dir)"
   ]
  }
 ],
 "metadata": {
  "kernelspec": {
   "display_name": "Python 3 (ipykernel)",
   "language": "python",
   "name": "python3"
  },
  "language_info": {
   "codemirror_mode": {
    "name": "ipython",
    "version": 3
   },
   "file_extension": ".py",
   "mimetype": "text/x-python",
   "name": "python",
   "nbconvert_exporter": "python",
   "pygments_lexer": "ipython3",
   "version": "3.10.12"
  }
 },
 "nbformat": 4,
 "nbformat_minor": 1
}
